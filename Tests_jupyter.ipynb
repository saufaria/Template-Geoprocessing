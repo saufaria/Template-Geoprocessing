{
 "cells": [
  {
   "cell_type": "code",
   "execution_count": 1,
   "metadata": {},
   "outputs": [],
   "source": [
    "from arcgis.gis import GIS\n",
    "from arcgis.features.layer import FeatureLayer\n",
    "import arcpy\n",
    "import os,sys\n",
    "sys.path.append(\"D:\\Qenergy\\Matrix-Project\\Template - Geoprocessing\")\n",
    "# import geographicEntities as ge\n",
    "import config\n",
    "import geopandas as gpd\n",
    "import rasterio as rio\n",
    "import requests\n",
    "import simplejson as json\n",
    "from openpyxl import load_workbook\n",
    "\n",
    "arcpy.env.overwriteOutput = True\n",
    "    # Connection DEV :\n",
    "gis = GIS(\"https://gisportal.enr-fr.com/arcgis\", \"geoprocessing\", \"geoprocessing2022\", verify_cert=False)\n",
    "    # Connection STG :\n",
    "# gis_stg = GIS(\"https://gisportal.enr-fr.com/arcgis\", \" zone_protegee\", \" zone_protegee\", verify_cert=False)"
   ]
  },
  {
   "cell_type": "code",
   "execution_count": 2,
   "metadata": {},
   "outputs": [],
   "source": [
    "turbines_url = gis.content.get(config.settings['layout_service']).layers[0]  \n",
    "\n",
    "layoutid = \"layout_globalid='{1B7AFD00-E90D-4EF3-B93C-E94162D27400}'\" #.format(arcpy.GetParameterAsText(0))\n",
    "    # Layout_global IDs: \n",
    "    # Mas de l'Euze:      {1B7AFD00-E90D-4EF3-B93C-E94162D27400}\n",
    "    # Foret de Lente:     {7ABB65DA-E818-4C98-9118-09C70623B9E8}\n",
    "    # Claves de Roussas:  {17BA3401-BFF9-4122-AD27-A9D7351B5FBA}\n",
    "    # Folny:              {F80E1C55-FBFF-4ECC-BAC6-9291DC3431E1}\n",
    "    # Chaume de Communes: {5EB17060-9116-4333-AF64-C108F2816778}\n",
    "    # Grands Communaux:   {E5A1DE41-7AED-44E6-9603-CE885C6B4819}\n",
    "    # Renouvellement Marsanne: {D664D613-07F8-49CA-A6F0-819C8509DF76}\n",
    "\n",
    "####################################### INPUT / OUTPUT Geoprocessing definition ######################################\n",
    "input_layer = arcpy.MakeFeatureLayer_management(turbines_url.url, \"in_layer\", where_clause=layoutid)"
   ]
  },
  {
   "cell_type": "code",
   "execution_count": null,
   "metadata": {},
   "outputs": [],
   "source": [
    "risk_svc = gis.content.get(config.dic_vector[\"NATURE\"][\"Rnn\"]['service_id']) # Get theme id in the qrcgis server\n",
    "risk_id = config.dic_vector[\"NATURE\"][\"Rnn\"]['layer_index'] # Get risk index in the list of subthemes\n",
    "risk_url = risk_svc.layers[risk_id]\n",
    "risk_buffer = config.dic_vector[\"NATURE\"][\"Rnn\"]['buffer']\n",
    "\n",
    "risk_result = arcpy.MakeFeatureLayer_management(risk_url.url,\"risk\").getOutput(0)\n",
    "\n",
    "risk_entity = arcpy.SelectLayerByLocation_management(risk_result,\"WITHIN_A_DISTANCE\",input_layer,300000,'NEW_SELECTION')\n",
    "\n",
    "risk_entity"
   ]
  },
  {
   "cell_type": "code",
   "execution_count": null,
   "metadata": {},
   "outputs": [],
   "source": [
    "a = arcpy.Describe(risk_entity)\n",
    "\n",
    "a.featureClass"
   ]
  },
  {
   "cell_type": "code",
   "execution_count": 33,
   "metadata": {},
   "outputs": [
    {
     "name": "stdout",
     "output_type": "stream",
     "text": [
      "<da.SearchCursor object at 0x00000247D6EB1030>\n"
     ]
    }
   ],
   "source": [
    "b = arcpy.da.SearchCursor(risk_entity,'*')\n"
   ]
  },
  {
   "cell_type": "code",
   "execution_count": 194,
   "metadata": {},
   "outputs": [],
   "source": [
    "a= arcpy.MakeFeatureLayer_management(risk_entity,\"entities\").getOutput(0)"
   ]
  },
  {
   "cell_type": "code",
   "execution_count": 187,
   "metadata": {},
   "outputs": [],
   "source": [
    "env = arcpy.env.workspace = r\"D:\\Qenergy\\Test.gdb\""
   ]
  },
  {
   "cell_type": "code",
   "execution_count": 188,
   "metadata": {},
   "outputs": [
    {
     "data": {
      "text/html": [
       "<div class='gpresult'><h2>Messages</h2><div id='messages' data-messages='[\"Start Time: lundi 19 septembre 2022 15:54:50\",\"Succeeded at lundi 19 septembre 2022 15:54:50 (Elapsed Time: 0,16 seconds)\"]' data-show='true'><div id = 'default' /></div></div>"
      ],
      "text/plain": [
       "<Result 'D:\\\\Qenergy\\\\Test.shp'>"
      ]
     },
     "execution_count": 188,
     "metadata": {},
     "output_type": "execute_result"
    }
   ],
   "source": [
    "arcpy.CopyFeatures_management(a, env)"
   ]
  },
  {
   "cell_type": "code",
   "execution_count": 190,
   "metadata": {},
   "outputs": [
    {
     "data": {
      "text/plain": [
       "9"
      ]
     },
     "execution_count": 190,
     "metadata": {},
     "output_type": "execute_result"
    }
   ],
   "source": [
    "int(arcpy.GetCount_management(risk_entity)[0]) "
   ]
  }
 ],
 "metadata": {
  "kernelspec": {
   "display_name": "Python 3.7.11",
   "language": "python",
   "name": "python3"
  },
  "language_info": {
   "codemirror_mode": {
    "name": "ipython",
    "version": 3
   },
   "file_extension": ".py",
   "mimetype": "text/x-python",
   "name": "python",
   "nbconvert_exporter": "python",
   "pygments_lexer": "ipython3",
   "version": "3.7.11"
  },
  "orig_nbformat": 4,
  "vscode": {
   "interpreter": {
    "hash": "a4bd60c206bab69a5d69bb45be8ae8b5ac1c6fdc944ee893cdce296448f7a2d3"
   }
  }
 },
 "nbformat": 4,
 "nbformat_minor": 2
}
